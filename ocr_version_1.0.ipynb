{
 "cells": [
  {
   "cell_type": "markdown",
   "metadata": {},
   "source": [
    "# METHOD 1 EASY OCR\n"
   ]
  },
  {
   "cell_type": "markdown",
   "metadata": {},
   "source": [
    "## INSTALLING DEPENDENCIES AND IMPORTING DEPENDENCIES "
   ]
  },
  {
   "cell_type": "code",
   "execution_count": 11,
   "metadata": {},
   "outputs": [
    {
     "name": "stdout",
     "output_type": "stream",
     "text": [
      "Requirement already satisfied: torch in c:\\users\\harsh\\appdata\\local\\programs\\python\\python39\\lib\\site-packages (1.9.1)\n",
      "Requirement already satisfied: torchvision in c:\\users\\harsh\\appdata\\local\\programs\\python\\python39\\lib\\site-packages (0.10.1)\n",
      "Requirement already satisfied: torchaudio in c:\\users\\harsh\\appdata\\local\\programs\\python\\python39\\lib\\site-packages (0.9.1)\n",
      "Requirement already satisfied: typing-extensions in c:\\users\\harsh\\appdata\\local\\programs\\python\\python39\\lib\\site-packages (from torch) (3.10.0.0)\n",
      "Requirement already satisfied: pillow>=5.3.0 in c:\\users\\harsh\\appdata\\local\\programs\\python\\python39\\lib\\site-packages (from torchvision) (8.2.0)\n",
      "Requirement already satisfied: numpy in c:\\users\\harsh\\appdata\\local\\programs\\python\\python39\\lib\\site-packages (from torchvision) (1.20.2)\n"
     ]
    },
    {
     "name": "stderr",
     "output_type": "stream",
     "text": [
      "WARNING: You are using pip version 21.2.4; however, version 21.3.1 is available.\n",
      "You should consider upgrading via the 'c:\\users\\harsh\\appdata\\local\\programs\\python\\python39\\python.exe -m pip install --upgrade pip' command.\n"
     ]
    },
    {
     "name": "stdout",
     "output_type": "stream",
     "text": [
      "Requirement already satisfied: easyocr in c:\\users\\harsh\\appdata\\local\\programs\\python\\python39\\lib\\site-packages (1.4.1)\n",
      "Requirement already satisfied: opencv-python-headless in c:\\users\\harsh\\appdata\\local\\programs\\python\\python39\\lib\\site-packages (from easyocr) (4.5.3.56)\n",
      "Requirement already satisfied: Pillow<8.3.0 in c:\\users\\harsh\\appdata\\local\\programs\\python\\python39\\lib\\site-packages (from easyocr) (8.2.0)\n",
      "Requirement already satisfied: torch in c:\\users\\harsh\\appdata\\local\\programs\\python\\python39\\lib\\site-packages (from easyocr) (1.9.1)\n",
      "Requirement already satisfied: numpy in c:\\users\\harsh\\appdata\\local\\programs\\python\\python39\\lib\\site-packages (from easyocr) (1.20.2)\n",
      "Requirement already satisfied: scikit-image in c:\\users\\harsh\\appdata\\local\\programs\\python\\python39\\lib\\site-packages (from easyocr) (0.18.3)\n",
      "Requirement already satisfied: python-bidi in c:\\users\\harsh\\appdata\\local\\programs\\python\\python39\\lib\\site-packages (from easyocr) (0.4.2)\n",
      "Requirement already satisfied: torchvision>=0.5 in c:\\users\\harsh\\appdata\\local\\programs\\python\\python39\\lib\\site-packages (from easyocr) (0.10.1)\n",
      "Requirement already satisfied: scipy in c:\\users\\harsh\\appdata\\local\\programs\\python\\python39\\lib\\site-packages (from easyocr) (1.7.1)\n",
      "Requirement already satisfied: PyYAML in c:\\users\\harsh\\appdata\\local\\programs\\python\\python39\\lib\\site-packages (from easyocr) (3.13)\n",
      "Requirement already satisfied: typing-extensions in c:\\users\\harsh\\appdata\\local\\programs\\python\\python39\\lib\\site-packages (from torch->easyocr) (3.10.0.0)\n",
      "Requirement already satisfied: six in c:\\users\\harsh\\appdata\\local\\programs\\python\\python39\\lib\\site-packages (from python-bidi->easyocr) (1.15.0)\n",
      "Requirement already satisfied: imageio>=2.3.0 in c:\\users\\harsh\\appdata\\local\\programs\\python\\python39\\lib\\site-packages (from scikit-image->easyocr) (2.9.0)\n",
      "Requirement already satisfied: tifffile>=2019.7.26 in c:\\users\\harsh\\appdata\\local\\programs\\python\\python39\\lib\\site-packages (from scikit-image->easyocr) (2021.8.30)\n",
      "Requirement already satisfied: PyWavelets>=1.1.1 in c:\\users\\harsh\\appdata\\local\\programs\\python\\python39\\lib\\site-packages (from scikit-image->easyocr) (1.1.1)\n",
      "Requirement already satisfied: networkx>=2.0 in c:\\users\\harsh\\appdata\\local\\programs\\python\\python39\\lib\\site-packages (from scikit-image->easyocr) (2.6.3)\n",
      "Requirement already satisfied: matplotlib!=3.0.0,>=2.0.0 in c:\\users\\harsh\\appdata\\local\\programs\\python\\python39\\lib\\site-packages (from scikit-image->easyocr) (3.4.1)\n",
      "Requirement already satisfied: cycler>=0.10 in c:\\users\\harsh\\appdata\\local\\programs\\python\\python39\\lib\\site-packages (from matplotlib!=3.0.0,>=2.0.0->scikit-image->easyocr) (0.10.0)\n",
      "Requirement already satisfied: pyparsing>=2.2.1 in c:\\users\\harsh\\appdata\\local\\programs\\python\\python39\\lib\\site-packages (from matplotlib!=3.0.0,>=2.0.0->scikit-image->easyocr) (2.4.7)\n",
      "Requirement already satisfied: python-dateutil>=2.7 in c:\\users\\harsh\\appdata\\local\\programs\\python\\python39\\lib\\site-packages (from matplotlib!=3.0.0,>=2.0.0->scikit-image->easyocr) (2.8.1)\n",
      "Requirement already satisfied: kiwisolver>=1.0.1 in c:\\users\\harsh\\appdata\\local\\programs\\python\\python39\\lib\\site-packages (from matplotlib!=3.0.0,>=2.0.0->scikit-image->easyocr) (1.3.1)\n"
     ]
    },
    {
     "name": "stderr",
     "output_type": "stream",
     "text": [
      "WARNING: You are using pip version 21.2.4; however, version 21.3.1 is available.\n",
      "You should consider upgrading via the 'c:\\users\\harsh\\appdata\\local\\programs\\python\\python39\\python.exe -m pip install --upgrade pip' command.\n"
     ]
    }
   ],
   "source": [
    "!pip install torch torchvision torchaudio\n",
    "!pip install easyocr"
   ]
  },
  {
   "cell_type": "markdown",
   "metadata": {},
   "source": [
    "## IMPORTING SOME OF THE LIBRARIES USED IN THE OCR"
   ]
  },
  {
   "cell_type": "code",
   "execution_count": 12,
   "metadata": {},
   "outputs": [],
   "source": [
    "import easyocr\n",
    "import cv2\n",
    "from matplotlib import pyplot as plt\n",
    "import numpy as np"
   ]
  },
  {
   "cell_type": "markdown",
   "metadata": {},
   "source": [
    "## READING IMAGES"
   ]
  },
  {
   "cell_type": "code",
   "execution_count": 13,
   "metadata": {},
   "outputs": [],
   "source": [
    "IMG_PATH = 'img1.jpg' #Here we have assigned the image into the variable"
   ]
  },
  {
   "cell_type": "code",
   "execution_count": 10,
   "metadata": {},
   "outputs": [],
   "source": [
    "reader = easyocr.Reader(['en'],gpu=False) #Telling easyocr engine to identify the english characters in the given image.\n",
    "readed_image = reader.readtext(IMG_PATH) #Then we are actually using an readtext function in order to read the image.\n",
    "readed_image"
   ]
  }
 ],
 "metadata": {
  "interpreter": {
   "hash": "f3b4948975752aeb29c0de604037f952085b89eecd1d118bbd83ab48c0cc5c61"
  },
  "kernelspec": {
   "display_name": "Python 3.9.0 64-bit",
   "name": "python3"
  },
  "language_info": {
   "codemirror_mode": {
    "name": "ipython",
    "version": 3
   },
   "file_extension": ".py",
   "mimetype": "text/x-python",
   "name": "python",
   "nbconvert_exporter": "python",
   "pygments_lexer": "ipython3",
   "version": "3.9.0"
  },
  "orig_nbformat": 4
 },
 "nbformat": 4,
 "nbformat_minor": 2
}
